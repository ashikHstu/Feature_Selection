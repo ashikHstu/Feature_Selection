{
 "cells": [
  {
   "cell_type": "code",
   "execution_count": 1,
   "id": "4a65182c-0b9b-4777-8495-cd2ee7533600",
   "metadata": {},
   "outputs": [
    {
     "name": "stdout",
     "output_type": "stream",
     "text": [
      "Requirement already satisfied: feature_engine==1.6.0 in c:\\users\\hi\\anaconda3\\lib\\site-packages (1.6.0)\n",
      "Requirement already satisfied: numpy>=1.18.2 in c:\\users\\hi\\anaconda3\\lib\\site-packages (from feature_engine==1.6.0) (1.26.4)\n",
      "Requirement already satisfied: pandas>=1.0.3 in c:\\users\\hi\\anaconda3\\lib\\site-packages (from feature_engine==1.6.0) (2.2.2)\n",
      "Requirement already satisfied: scikit-learn>=1.0.0 in c:\\users\\hi\\anaconda3\\lib\\site-packages (from feature_engine==1.6.0) (1.4.2)\n",
      "Requirement already satisfied: scipy>=1.4.1 in c:\\users\\hi\\anaconda3\\lib\\site-packages (from feature_engine==1.6.0) (1.13.1)\n",
      "Requirement already satisfied: statsmodels>=0.11.1 in c:\\users\\hi\\anaconda3\\lib\\site-packages (from feature_engine==1.6.0) (0.14.2)\n",
      "Requirement already satisfied: python-dateutil>=2.8.2 in c:\\users\\hi\\anaconda3\\lib\\site-packages (from pandas>=1.0.3->feature_engine==1.6.0) (2.9.0.post0)\n",
      "Requirement already satisfied: pytz>=2020.1 in c:\\users\\hi\\anaconda3\\lib\\site-packages (from pandas>=1.0.3->feature_engine==1.6.0) (2024.1)\n",
      "Requirement already satisfied: tzdata>=2022.7 in c:\\users\\hi\\anaconda3\\lib\\site-packages (from pandas>=1.0.3->feature_engine==1.6.0) (2023.3)\n",
      "Requirement already satisfied: joblib>=1.2.0 in c:\\users\\hi\\anaconda3\\lib\\site-packages (from scikit-learn>=1.0.0->feature_engine==1.6.0) (1.4.2)\n",
      "Requirement already satisfied: threadpoolctl>=2.0.0 in c:\\users\\hi\\anaconda3\\lib\\site-packages (from scikit-learn>=1.0.0->feature_engine==1.6.0) (2.2.0)\n",
      "Requirement already satisfied: patsy>=0.5.6 in c:\\users\\hi\\anaconda3\\lib\\site-packages (from statsmodels>=0.11.1->feature_engine==1.6.0) (0.5.6)\n",
      "Requirement already satisfied: packaging>=21.3 in c:\\users\\hi\\anaconda3\\lib\\site-packages (from statsmodels>=0.11.1->feature_engine==1.6.0) (23.2)\n",
      "Requirement already satisfied: six in c:\\users\\hi\\anaconda3\\lib\\site-packages (from patsy>=0.5.6->statsmodels>=0.11.1->feature_engine==1.6.0) (1.16.0)\n"
     ]
    }
   ],
   "source": [
    "!pip install feature_engine==1.6.0"
   ]
  },
  {
   "cell_type": "code",
   "execution_count": 2,
   "id": "3c40a9f8",
   "metadata": {},
   "outputs": [],
   "source": [
    "import pandas as pd\n",
    "import numpy as np\n",
    "import matplotlib.pyplot as plt\n",
    "from matplotlib.pyplot import figure\n",
    "import seaborn as sb\n",
    "# Import essential libraries\n",
    "import os\n",
    "import joblib\n",
    "import numpy as np\n",
    "import pandas as pd\n",
    "import warnings\n",
    "import matplotlib\n",
    "import matplotlib.pyplot as plt\n",
    "from matplotlib import ticker\n",
    "from sklearn.linear_model import LogisticRegression\n",
    "import seaborn as sns\n",
    "from sklearn.model_selection import train_test_split\n",
    "import os\n",
    "from numpy.random import rand\n",
    "from sklearn.model_selection import train_test_split\n",
    "import matplotlib.pyplot as plt\n",
    "import random\n",
    "from random import randrange\n",
    "import time\n",
    "from sklearn.preprocessing import StandardScaler\n",
    "from sklearn.metrics import mean_squared_error\n",
    "from sklearn.model_selection import StratifiedKFold\n",
    "from sklearn.linear_model import LinearRegression\n",
    "import xgboost as xg\n",
    "from helper import *\n",
    "from geneticHelper import *\n",
    "from statHelper import *\n",
    "import warnings\n",
    "\n",
    "# To ignore all warnings\n",
    "warnings.filterwarnings(\"ignore\")"
   ]
  },
  {
   "cell_type": "code",
   "execution_count": 3,
   "id": "5dd189ac-5b3a-4733-a1b0-b29189cd967b",
   "metadata": {},
   "outputs": [],
   "source": [
    "# mainRes=GeneticAlgo(Data.copy(),class_name='class')\n",
    "# mainRes.result"
   ]
  },
  {
   "cell_type": "markdown",
   "id": "e66a0aaa-5109-4dcd-b928-6af5b30fa16b",
   "metadata": {},
   "source": [
    "## Genetic algorithm Version 2 <br>\n",
    "__initilization of population:__ <br>\n",
    "population contains all the cromosome. On the initilization of population, the size of population and the number of feature is given. Here total \"size\" cromosome is generated where each cromosome has n_feature. there, 30% of the cromosome set to false initially. Then a random shuffle happends to mix them. <br>\n",
    "The initial population is for the first generation. <br><br>\n",
    "__Fitness Score:__ <br>\n",
    "On the Fitness score, the population is passed. A random Forest Classifier model with n_estimators=200 and random_state=0 is used. The score is calculated for each chromosome in the population. Finally the score and population is sorted based on accuracy score and returns from the fitnes Score function. <br>\n",
    "<br>\n",
    "__Selection:__ <br>\n",
    "Population sorted based on accuracy and the number of parents n_parents is passed here. It takes the top n_parents cromosome and based on accuracy score and return it. \n",
    "<br><br>\n",
    "__CrosOver:__  <br>\n",
    "In crossover, the selected n_parents cromosome is passed to crossOver function. It take every two cromosome, merge first half of the first cromosome, and second half from the second cromosome. then add the new cromosome to the population.\n",
    "<br> <br>\n",
    "__Mutation:__ <br>\n",
    "It calculate the number of feature to be muted based on the mutation rate. Then it take every cromosome from the population and randomly choose the indexes to me muted. Then it change the feature, if true then false, if false then true. <br>\n",
    "<br>\n",
    "The final population will passed to the next generation."
   ]
  },
  {
   "cell_type": "code",
   "execution_count": 5,
   "id": "236409e5-1087-45be-ba17-141a19f199c4",
   "metadata": {},
   "outputs": [],
   "source": [
    "from sklearn.metrics import accuracy_score\n",
    "from sklearn.ensemble import RandomForestClassifier\n",
    "from sklearn.model_selection import train_test_split\n",
    "from random import randint\n",
    "class storeData:\n",
    "    def __init__(self, result, features, cromosome,data):\n",
    "        self.result = result\n",
    "        self.features = features\n",
    "        self.cromosome = cromosome\n",
    "        self.data=data\n",
    "\n",
    "    def __repr__(self):\n",
    "        return f\"MyDataContainer(result={self.result}, features={self.features}, cromosome={self.cromosome},data={self.data})\"\n",
    "\n",
    "def initilization_of_population(size,n_feat):\n",
    "    population = []\n",
    "    for i in range(size):\n",
    "        chromosome = np.ones(n_feat,dtype=bool)  # Initialize n_feat sized array with True/One     \n",
    "        chromosome[:int(0.3*n_feat)]=False       # Set first 30% of the elements False/Zero\n",
    "        np.random.shuffle(chromosome)\n",
    "        population.append(chromosome)\n",
    "    return population\n",
    "\n",
    "def fitness_score(population,X_train,Y_train,X_test,Y_test):\n",
    "    scores = []\n",
    "    logmodel = RandomForestClassifier(n_estimators=200, random_state=0)\n",
    "    for chromosome in population:\n",
    "        logmodel.fit(X_train.iloc[:,chromosome],Y_train)         \n",
    "        predictions = logmodel.predict(X_test.iloc[:,chromosome])\n",
    "        scores.append(accuracy_score(Y_test,predictions))\n",
    "    scores, population = np.array(scores), np.array(population) \n",
    "    inds = np.argsort(scores)                                    \n",
    "    return list(scores[inds][::-1]), list(population[inds,:][::-1]) \n",
    "\n",
    "\n",
    "def selection(pop_after_fit,n_parents):\n",
    "    population_nextgen = []\n",
    "    for i in range(n_parents):\n",
    "        population_nextgen.append(pop_after_fit[i])\n",
    "    return population_nextgen\n",
    "\n",
    "\n",
    "def crossover(pop_after_sel):\n",
    "    pop_nextgen = pop_after_sel\n",
    "    for i in range(0,len(pop_after_sel),2):\n",
    "        new_par = []\n",
    "        child_1 , child_2 = pop_nextgen[i] , pop_nextgen[i+1]\n",
    "        new_par = np.concatenate((child_1[:len(child_1)//2],child_2[len(child_1)//2:]))\n",
    "        pop_nextgen.append(new_par)\n",
    "    return pop_nextgen\n",
    "\n",
    "\n",
    "def mutation(pop_after_cross,mutation_rate,n_feat):   \n",
    "    mutation_range = int(mutation_rate*n_feat)\n",
    "    pop_next_gen = []\n",
    "    for n in range(0,len(pop_after_cross)):\n",
    "        chromo = pop_after_cross[n]\n",
    "        rand_posi = [] \n",
    "        for i in range(0,mutation_range):\n",
    "            pos = randint(0,n_feat-1)\n",
    "            rand_posi.append(pos)\n",
    "        for j in rand_posi:\n",
    "            chromo[j] = not chromo[j]  \n",
    "        pop_next_gen.append(chromo)\n",
    "    return pop_next_gen\n",
    "# df=X, label=y, size=80,n_feat=number of column in X,n_parents=64, mutation_rate=0.2,n_gen=5\n",
    "def generations(df,label,size,n_feat,n_parents,mutation_rate,n_gen,X_train,\n",
    "                                   X_test, Y_train, Y_test):\n",
    "    best_chromo= []\n",
    "    best_score= []\n",
    "    population_nextgen=initilization_of_population(size,n_feat)\n",
    "    for i in range(n_gen):\n",
    "        scores, pop_after_fit = fitness_score(population_nextgen,X_train,Y_train,X_test,Y_test)\n",
    "        print('Best score in generation',i+1,':',scores[:1])  #2\n",
    "        pop_after_sel = selection(pop_after_fit,n_parents)\n",
    "        pop_after_cross = crossover(pop_after_sel)\n",
    "        population_nextgen = mutation(pop_after_cross,mutation_rate,n_feat)\n",
    "        best_chromo.append(pop_after_fit[0])\n",
    "        best_score.append(scores[0])\n",
    "    return best_chromo.copy(),best_score.copy()\n",
    "def split(df,label):\n",
    "    X_tr, X_te, Y_tr, Y_te = train_test_split(df, label, test_size=0.25, random_state=42)\n",
    "    return X_tr, X_te, Y_tr, Y_te\n",
    "    \n",
    "def genAlgo_v2(data,label='class'):\n",
    "    y=data['class']\n",
    "    X=data.drop('class',axis=1)\n",
    "    X_train,X_test, Y_train, Y_test = split(X,y)\n",
    "    chromo_df_bc,score_bc=generations(X,y,size=40,n_feat=X.shape[1],n_parents=32,mutation_rate=0.20,n_gen=3,\n",
    "                         X_train = X_train,X_test = X_test,Y_train = Y_train,Y_test = Y_test)\n",
    "    score_bc, chromo_df_bc = np.array(score_bc), np.array(chromo_df_bc) \n",
    "    inds = np.argsort(score_bc)                                    \n",
    "    score_bc=list(score_bc[inds][::-1])\n",
    "    chromo_df_bc=list(chromo_df_bc[inds,:][::-1]) \n",
    "    #score_bc=list(score_bc)\n",
    "    #chromo_df_bc=list(chromo_df_bc) \n",
    "    X=X.iloc[:,chromo_df_bc[0]]\n",
    "    selectedFeatures=list(X.columns)\n",
    "    data_combined = pd.concat([X, y], axis=1)\n",
    "    genRes=storeData(score_bc[0] , selectedFeatures, chromo_df_bc[0],data_combined)\n",
    "    return genRes;  "
   ]
  },
  {
   "cell_type": "code",
   "execution_count": 6,
   "id": "96de9bce",
   "metadata": {},
   "outputs": [],
   "source": [
    "\n",
    "Data = pd.read_csv(\"onlyAlpha.csv\")\n",
    "# Data"
   ]
  },
  {
   "cell_type": "code",
   "execution_count": 7,
   "id": "4d4027f0",
   "metadata": {},
   "outputs": [
    {
     "name": "stdout",
     "output_type": "stream",
     "text": [
      "Best score in generation 1 : [0.8881118881118881]\n",
      "Best score in generation 2 : [0.9090909090909091]\n",
      "Best score in generation 3 : [0.8881118881118881]\n"
     ]
    }
   ],
   "source": [
    "store=genAlgo_v2(Data.copy(),label='class')\n"
   ]
  },
  {
   "cell_type": "code",
   "execution_count": 8,
   "id": "74e20e74-a308-4b99-a4f0-65410c2be333",
   "metadata": {},
   "outputs": [
    {
     "data": {
      "text/html": [
       "<div>\n",
       "<style scoped>\n",
       "    .dataframe tbody tr th:only-of-type {\n",
       "        vertical-align: middle;\n",
       "    }\n",
       "\n",
       "    .dataframe tbody tr th {\n",
       "        vertical-align: top;\n",
       "    }\n",
       "\n",
       "    .dataframe thead th {\n",
       "        text-align: right;\n",
       "    }\n",
       "</style>\n",
       "<table border=\"1\" class=\"dataframe\">\n",
       "  <thead>\n",
       "    <tr style=\"text-align: right;\">\n",
       "      <th></th>\n",
       "      <th>O1-LE_alpha</th>\n",
       "      <th>T3-LE_alpha</th>\n",
       "      <th>Fp2-LE_alpha</th>\n",
       "      <th>F8-LE_alpha</th>\n",
       "      <th>T4-LE_alpha</th>\n",
       "      <th>Cz-LE_alpha</th>\n",
       "      <th>Pz-LE_alpha</th>\n",
       "      <th>A2-A1_alpha</th>\n",
       "      <th>class</th>\n",
       "    </tr>\n",
       "  </thead>\n",
       "  <tbody>\n",
       "    <tr>\n",
       "      <th>0</th>\n",
       "      <td>6.69</td>\n",
       "      <td>6.46</td>\n",
       "      <td>11.32</td>\n",
       "      <td>10.04</td>\n",
       "      <td>2.77</td>\n",
       "      <td>8.54</td>\n",
       "      <td>9.02</td>\n",
       "      <td>7.85</td>\n",
       "      <td>0</td>\n",
       "    </tr>\n",
       "    <tr>\n",
       "      <th>1</th>\n",
       "      <td>11.09</td>\n",
       "      <td>6.73</td>\n",
       "      <td>14.67</td>\n",
       "      <td>16.58</td>\n",
       "      <td>4.62</td>\n",
       "      <td>11.43</td>\n",
       "      <td>12.49</td>\n",
       "      <td>9.74</td>\n",
       "      <td>0</td>\n",
       "    </tr>\n",
       "    <tr>\n",
       "      <th>2</th>\n",
       "      <td>8.80</td>\n",
       "      <td>4.70</td>\n",
       "      <td>8.55</td>\n",
       "      <td>6.04</td>\n",
       "      <td>2.65</td>\n",
       "      <td>10.43</td>\n",
       "      <td>9.40</td>\n",
       "      <td>8.79</td>\n",
       "      <td>0</td>\n",
       "    </tr>\n",
       "    <tr>\n",
       "      <th>3</th>\n",
       "      <td>17.34</td>\n",
       "      <td>14.99</td>\n",
       "      <td>28.18</td>\n",
       "      <td>18.37</td>\n",
       "      <td>5.11</td>\n",
       "      <td>26.13</td>\n",
       "      <td>36.55</td>\n",
       "      <td>7.69</td>\n",
       "      <td>0</td>\n",
       "    </tr>\n",
       "    <tr>\n",
       "      <th>4</th>\n",
       "      <td>15.42</td>\n",
       "      <td>10.13</td>\n",
       "      <td>11.47</td>\n",
       "      <td>8.55</td>\n",
       "      <td>2.64</td>\n",
       "      <td>16.71</td>\n",
       "      <td>26.95</td>\n",
       "      <td>6.90</td>\n",
       "      <td>0</td>\n",
       "    </tr>\n",
       "    <tr>\n",
       "      <th>...</th>\n",
       "      <td>...</td>\n",
       "      <td>...</td>\n",
       "      <td>...</td>\n",
       "      <td>...</td>\n",
       "      <td>...</td>\n",
       "      <td>...</td>\n",
       "      <td>...</td>\n",
       "      <td>...</td>\n",
       "      <td>...</td>\n",
       "    </tr>\n",
       "    <tr>\n",
       "      <th>1136</th>\n",
       "      <td>16.63</td>\n",
       "      <td>24.31</td>\n",
       "      <td>28.56</td>\n",
       "      <td>31.56</td>\n",
       "      <td>42.09</td>\n",
       "      <td>32.34</td>\n",
       "      <td>24.29</td>\n",
       "      <td>43.66</td>\n",
       "      <td>1</td>\n",
       "    </tr>\n",
       "    <tr>\n",
       "      <th>1137</th>\n",
       "      <td>18.11</td>\n",
       "      <td>43.28</td>\n",
       "      <td>34.67</td>\n",
       "      <td>29.04</td>\n",
       "      <td>26.23</td>\n",
       "      <td>39.78</td>\n",
       "      <td>30.92</td>\n",
       "      <td>21.07</td>\n",
       "      <td>1</td>\n",
       "    </tr>\n",
       "    <tr>\n",
       "      <th>1138</th>\n",
       "      <td>13.41</td>\n",
       "      <td>13.71</td>\n",
       "      <td>25.51</td>\n",
       "      <td>14.65</td>\n",
       "      <td>10.93</td>\n",
       "      <td>19.92</td>\n",
       "      <td>16.35</td>\n",
       "      <td>4.84</td>\n",
       "      <td>1</td>\n",
       "    </tr>\n",
       "    <tr>\n",
       "      <th>1139</th>\n",
       "      <td>19.03</td>\n",
       "      <td>35.75</td>\n",
       "      <td>16.07</td>\n",
       "      <td>10.88</td>\n",
       "      <td>12.91</td>\n",
       "      <td>25.57</td>\n",
       "      <td>22.33</td>\n",
       "      <td>9.83</td>\n",
       "      <td>1</td>\n",
       "    </tr>\n",
       "    <tr>\n",
       "      <th>1140</th>\n",
       "      <td>9.42</td>\n",
       "      <td>11.00</td>\n",
       "      <td>4.42</td>\n",
       "      <td>5.93</td>\n",
       "      <td>8.20</td>\n",
       "      <td>11.53</td>\n",
       "      <td>9.70</td>\n",
       "      <td>2.40</td>\n",
       "      <td>1</td>\n",
       "    </tr>\n",
       "  </tbody>\n",
       "</table>\n",
       "<p>1141 rows × 9 columns</p>\n",
       "</div>"
      ],
      "text/plain": [
       "      O1-LE_alpha  T3-LE_alpha  Fp2-LE_alpha  F8-LE_alpha  T4-LE_alpha  \\\n",
       "0            6.69         6.46         11.32        10.04         2.77   \n",
       "1           11.09         6.73         14.67        16.58         4.62   \n",
       "2            8.80         4.70          8.55         6.04         2.65   \n",
       "3           17.34        14.99         28.18        18.37         5.11   \n",
       "4           15.42        10.13         11.47         8.55         2.64   \n",
       "...           ...          ...           ...          ...          ...   \n",
       "1136        16.63        24.31         28.56        31.56        42.09   \n",
       "1137        18.11        43.28         34.67        29.04        26.23   \n",
       "1138        13.41        13.71         25.51        14.65        10.93   \n",
       "1139        19.03        35.75         16.07        10.88        12.91   \n",
       "1140         9.42        11.00          4.42         5.93         8.20   \n",
       "\n",
       "      Cz-LE_alpha  Pz-LE_alpha  A2-A1_alpha  class  \n",
       "0            8.54         9.02         7.85      0  \n",
       "1           11.43        12.49         9.74      0  \n",
       "2           10.43         9.40         8.79      0  \n",
       "3           26.13        36.55         7.69      0  \n",
       "4           16.71        26.95         6.90      0  \n",
       "...           ...          ...          ...    ...  \n",
       "1136        32.34        24.29        43.66      1  \n",
       "1137        39.78        30.92        21.07      1  \n",
       "1138        19.92        16.35         4.84      1  \n",
       "1139        25.57        22.33         9.83      1  \n",
       "1140        11.53         9.70         2.40      1  \n",
       "\n",
       "[1141 rows x 9 columns]"
      ]
     },
     "execution_count": 8,
     "metadata": {},
     "output_type": "execute_result"
    }
   ],
   "source": [
    "# print(\"best chromosome : \"+chromo_df_bc)\n",
    "# print(\"best score: \"+score_bc)\n",
    "store.data"
   ]
  },
  {
   "cell_type": "code",
   "execution_count": 9,
   "id": "0bfecb21-c59f-425a-b202-d6cf2e2525fc",
   "metadata": {},
   "outputs": [
    {
     "data": {
      "text/plain": [
       "['O1-LE_alpha',\n",
       " 'T3-LE_alpha',\n",
       " 'Fp2-LE_alpha',\n",
       " 'F8-LE_alpha',\n",
       " 'T4-LE_alpha',\n",
       " 'Cz-LE_alpha',\n",
       " 'Pz-LE_alpha',\n",
       " 'A2-A1_alpha']"
      ]
     },
     "execution_count": 9,
     "metadata": {},
     "output_type": "execute_result"
    }
   ],
   "source": [
    "store.features"
   ]
  },
  {
   "cell_type": "code",
   "execution_count": 10,
   "id": "b7114524-4561-4e3c-839a-452c450da4ae",
   "metadata": {},
   "outputs": [
    {
     "data": {
      "text/plain": [
       "0.9090909090909091"
      ]
     },
     "execution_count": 10,
     "metadata": {},
     "output_type": "execute_result"
    }
   ],
   "source": [
    "store.result"
   ]
  },
  {
   "cell_type": "code",
   "execution_count": 11,
   "id": "60f836a4-11f9-4585-9bff-6d7b7a96337c",
   "metadata": {},
   "outputs": [
    {
     "data": {
      "text/plain": [
       "array([False, False, False, False,  True, False,  True, False, False,\n",
       "        True, False, False, False, False,  True,  True, False,  True,\n",
       "        True,  True])"
      ]
     },
     "execution_count": 11,
     "metadata": {},
     "output_type": "execute_result"
    }
   ],
   "source": [
    "store.cromosome"
   ]
  },
  {
   "cell_type": "code",
   "execution_count": 65,
   "id": "7ad1cb38",
   "metadata": {},
   "outputs": [],
   "source": [
    "\n",
    "# allF=Data.columns.tolist()\n",
    "\n",
    "# indices_to_select = [1, 3, 4]\n",
    "\n",
    "# filFeature = [allF[i] for i in indices_to_select]\n",
    "# filFeature.append('class')\n",
    "# Data=Data[filFeature]\n",
    "# Data"
   ]
  },
  {
   "cell_type": "code",
   "execution_count": 6,
   "id": "13c50e9e",
   "metadata": {},
   "outputs": [
    {
     "data": {
      "text/html": [
       "<div>\n",
       "<style scoped>\n",
       "    .dataframe tbody tr th:only-of-type {\n",
       "        vertical-align: middle;\n",
       "    }\n",
       "\n",
       "    .dataframe tbody tr th {\n",
       "        vertical-align: top;\n",
       "    }\n",
       "\n",
       "    .dataframe thead th {\n",
       "        text-align: right;\n",
       "    }\n",
       "</style>\n",
       "<table border=\"1\" class=\"dataframe\">\n",
       "  <thead>\n",
       "    <tr style=\"text-align: right;\">\n",
       "      <th></th>\n",
       "      <th>Algo Names</th>\n",
       "      <th>Accuracy</th>\n",
       "      <th>Sensitivity</th>\n",
       "      <th>Specificity</th>\n",
       "      <th>F1-Score</th>\n",
       "    </tr>\n",
       "  </thead>\n",
       "  <tbody>\n",
       "    <tr>\n",
       "      <th>0</th>\n",
       "      <td>SVM</td>\n",
       "      <td>0.663755</td>\n",
       "      <td>0.144444</td>\n",
       "      <td>1.000000</td>\n",
       "      <td>0.252427</td>\n",
       "    </tr>\n",
       "    <tr>\n",
       "      <th>1</th>\n",
       "      <td>LogisticRegression</td>\n",
       "      <td>0.855895</td>\n",
       "      <td>0.833333</td>\n",
       "      <td>0.870504</td>\n",
       "      <td>0.819672</td>\n",
       "    </tr>\n",
       "    <tr>\n",
       "      <th>2</th>\n",
       "      <td>DecissionTree</td>\n",
       "      <td>0.842795</td>\n",
       "      <td>0.855556</td>\n",
       "      <td>0.834532</td>\n",
       "      <td>0.810526</td>\n",
       "    </tr>\n",
       "    <tr>\n",
       "      <th>3</th>\n",
       "      <td>RandomForest</td>\n",
       "      <td>0.890830</td>\n",
       "      <td>0.900000</td>\n",
       "      <td>0.884892</td>\n",
       "      <td>0.866310</td>\n",
       "    </tr>\n",
       "    <tr>\n",
       "      <th>4</th>\n",
       "      <td>Voting</td>\n",
       "      <td>0.864629</td>\n",
       "      <td>0.700000</td>\n",
       "      <td>0.971223</td>\n",
       "      <td>0.802548</td>\n",
       "    </tr>\n",
       "  </tbody>\n",
       "</table>\n",
       "</div>"
      ],
      "text/plain": [
       "           Algo Names  Accuracy  Sensitivity  Specificity  F1-Score\n",
       "0                 SVM  0.663755     0.144444     1.000000  0.252427\n",
       "1  LogisticRegression  0.855895     0.833333     0.870504  0.819672\n",
       "2       DecissionTree  0.842795     0.855556     0.834532  0.810526\n",
       "3        RandomForest  0.890830     0.900000     0.884892  0.866310\n",
       "4              Voting  0.864629     0.700000     0.971223  0.802548"
      ]
     },
     "execution_count": 6,
     "metadata": {},
     "output_type": "execute_result"
    }
   ],
   "source": [
    "res=quick_result(Data.copy(),class_name=\"class\",test_size=0.20,random_state=42)\n",
    "res"
   ]
  },
  {
   "cell_type": "code",
   "execution_count": 7,
   "id": "0eba77f2",
   "metadata": {},
   "outputs": [],
   "source": [
    "corrOutput=correlationResult(Data.copy(),Type=0)\n",
    "firstCromo=corrOutput.cromosome"
   ]
  },
  {
   "cell_type": "code",
   "execution_count": 8,
   "id": "ea497a53",
   "metadata": {},
   "outputs": [
    {
     "data": {
      "text/plain": [
       "[1, 0, 0, 0, 0, 1, 1, 0, 0, 0, 0, 1, 0, 0, 0, 0, 0, 0, 0, 1]"
      ]
     },
     "execution_count": 8,
     "metadata": {},
     "output_type": "execute_result"
    }
   ],
   "source": [
    "firstCromo"
   ]
  },
  {
   "cell_type": "code",
   "execution_count": 9,
   "id": "120a2f36",
   "metadata": {},
   "outputs": [
    {
     "data": {
      "text/html": [
       "<div>\n",
       "<style scoped>\n",
       "    .dataframe tbody tr th:only-of-type {\n",
       "        vertical-align: middle;\n",
       "    }\n",
       "\n",
       "    .dataframe tbody tr th {\n",
       "        vertical-align: top;\n",
       "    }\n",
       "\n",
       "    .dataframe thead th {\n",
       "        text-align: right;\n",
       "    }\n",
       "</style>\n",
       "<table border=\"1\" class=\"dataframe\">\n",
       "  <thead>\n",
       "    <tr style=\"text-align: right;\">\n",
       "      <th></th>\n",
       "      <th>Algo Names</th>\n",
       "      <th>Accuracy</th>\n",
       "      <th>Sensitivity</th>\n",
       "      <th>Specificity</th>\n",
       "      <th>F1-Score</th>\n",
       "    </tr>\n",
       "  </thead>\n",
       "  <tbody>\n",
       "    <tr>\n",
       "      <th>0</th>\n",
       "      <td>SVM</td>\n",
       "      <td>0.641921</td>\n",
       "      <td>0.111111</td>\n",
       "      <td>0.985612</td>\n",
       "      <td>0.196078</td>\n",
       "    </tr>\n",
       "    <tr>\n",
       "      <th>1</th>\n",
       "      <td>LogisticRegression</td>\n",
       "      <td>0.620087</td>\n",
       "      <td>0.266667</td>\n",
       "      <td>0.848921</td>\n",
       "      <td>0.355556</td>\n",
       "    </tr>\n",
       "    <tr>\n",
       "      <th>2</th>\n",
       "      <td>DecissionTree</td>\n",
       "      <td>0.724891</td>\n",
       "      <td>0.766667</td>\n",
       "      <td>0.697842</td>\n",
       "      <td>0.686567</td>\n",
       "    </tr>\n",
       "    <tr>\n",
       "      <th>3</th>\n",
       "      <td>RandomForest</td>\n",
       "      <td>0.799127</td>\n",
       "      <td>0.811111</td>\n",
       "      <td>0.791367</td>\n",
       "      <td>0.760417</td>\n",
       "    </tr>\n",
       "    <tr>\n",
       "      <th>4</th>\n",
       "      <td>Voting</td>\n",
       "      <td>0.663755</td>\n",
       "      <td>0.188889</td>\n",
       "      <td>0.971223</td>\n",
       "      <td>0.306306</td>\n",
       "    </tr>\n",
       "  </tbody>\n",
       "</table>\n",
       "</div>"
      ],
      "text/plain": [
       "           Algo Names  Accuracy  Sensitivity  Specificity  F1-Score\n",
       "0                 SVM  0.641921     0.111111     0.985612  0.196078\n",
       "1  LogisticRegression  0.620087     0.266667     0.848921  0.355556\n",
       "2       DecissionTree  0.724891     0.766667     0.697842  0.686567\n",
       "3        RandomForest  0.799127     0.811111     0.791367  0.760417\n",
       "4              Voting  0.663755     0.188889     0.971223  0.306306"
      ]
     },
     "execution_count": 9,
     "metadata": {},
     "output_type": "execute_result"
    }
   ],
   "source": [
    "corrOutput.result"
   ]
  },
  {
   "cell_type": "code",
   "execution_count": 10,
   "id": "17a65003",
   "metadata": {},
   "outputs": [
    {
     "name": "stdout",
     "output_type": "stream",
     "text": [
      "T5-LE_alpha 0.6052677146197165\n",
      "O1-LE_alpha 0.5839896523372571\n",
      "P3-LE_alpha 0.6412827205109085\n"
     ]
    }
   ],
   "source": [
    "corrOutput1=correlationResult(Data.copy(),Type=1)\n",
    "secondCromo=corrOutput1.cromosome"
   ]
  },
  {
   "cell_type": "code",
   "execution_count": 11,
   "id": "2afb9213",
   "metadata": {},
   "outputs": [
    {
     "data": {
      "text/plain": [
       "[0, 0, 1, 1, 0, 0, 1, 0, 0, 0, 0, 1, 0, 0, 0, 0, 0, 0, 0, 1]"
      ]
     },
     "execution_count": 11,
     "metadata": {},
     "output_type": "execute_result"
    }
   ],
   "source": [
    "secondCromo"
   ]
  },
  {
   "cell_type": "code",
   "execution_count": 12,
   "id": "00d4a9a9",
   "metadata": {},
   "outputs": [
    {
     "data": {
      "text/html": [
       "<div>\n",
       "<style scoped>\n",
       "    .dataframe tbody tr th:only-of-type {\n",
       "        vertical-align: middle;\n",
       "    }\n",
       "\n",
       "    .dataframe tbody tr th {\n",
       "        vertical-align: top;\n",
       "    }\n",
       "\n",
       "    .dataframe thead th {\n",
       "        text-align: right;\n",
       "    }\n",
       "</style>\n",
       "<table border=\"1\" class=\"dataframe\">\n",
       "  <thead>\n",
       "    <tr style=\"text-align: right;\">\n",
       "      <th></th>\n",
       "      <th>Algo Names</th>\n",
       "      <th>Accuracy</th>\n",
       "      <th>Sensitivity</th>\n",
       "      <th>Specificity</th>\n",
       "      <th>F1-Score</th>\n",
       "    </tr>\n",
       "  </thead>\n",
       "  <tbody>\n",
       "    <tr>\n",
       "      <th>0</th>\n",
       "      <td>SVM</td>\n",
       "      <td>0.646288</td>\n",
       "      <td>0.111111</td>\n",
       "      <td>0.992806</td>\n",
       "      <td>0.198020</td>\n",
       "    </tr>\n",
       "    <tr>\n",
       "      <th>1</th>\n",
       "      <td>LogisticRegression</td>\n",
       "      <td>0.563319</td>\n",
       "      <td>0.288889</td>\n",
       "      <td>0.741007</td>\n",
       "      <td>0.342105</td>\n",
       "    </tr>\n",
       "    <tr>\n",
       "      <th>2</th>\n",
       "      <td>DecissionTree</td>\n",
       "      <td>0.742358</td>\n",
       "      <td>0.700000</td>\n",
       "      <td>0.769784</td>\n",
       "      <td>0.681081</td>\n",
       "    </tr>\n",
       "    <tr>\n",
       "      <th>3</th>\n",
       "      <td>RandomForest</td>\n",
       "      <td>0.812227</td>\n",
       "      <td>0.755556</td>\n",
       "      <td>0.848921</td>\n",
       "      <td>0.759777</td>\n",
       "    </tr>\n",
       "    <tr>\n",
       "      <th>4</th>\n",
       "      <td>Voting</td>\n",
       "      <td>0.650655</td>\n",
       "      <td>0.200000</td>\n",
       "      <td>0.942446</td>\n",
       "      <td>0.310345</td>\n",
       "    </tr>\n",
       "  </tbody>\n",
       "</table>\n",
       "</div>"
      ],
      "text/plain": [
       "           Algo Names  Accuracy  Sensitivity  Specificity  F1-Score\n",
       "0                 SVM  0.646288     0.111111     0.992806  0.198020\n",
       "1  LogisticRegression  0.563319     0.288889     0.741007  0.342105\n",
       "2       DecissionTree  0.742358     0.700000     0.769784  0.681081\n",
       "3        RandomForest  0.812227     0.755556     0.848921  0.759777\n",
       "4              Voting  0.650655     0.200000     0.942446  0.310345"
      ]
     },
     "execution_count": 12,
     "metadata": {},
     "output_type": "execute_result"
    }
   ],
   "source": [
    "corrOutput1.result"
   ]
  },
  {
   "cell_type": "code",
   "execution_count": 13,
   "id": "8e021bc9",
   "metadata": {},
   "outputs": [],
   "source": [
    "corrOutput2=correlationResult(Data.copy(),Type=2)\n",
    "thirdCromo=corrOutput2.cromosome"
   ]
  },
  {
   "cell_type": "code",
   "execution_count": 14,
   "id": "5e8ae575",
   "metadata": {},
   "outputs": [
    {
     "data": {
      "text/plain": [
       "[0, 0, 0, 0, 1, 0, 1, 0, 1, 0, 0, 0, 1, 0, 0, 0, 0, 0, 0, 1]"
      ]
     },
     "execution_count": 14,
     "metadata": {},
     "output_type": "execute_result"
    }
   ],
   "source": [
    "thirdCromo"
   ]
  },
  {
   "cell_type": "code",
   "execution_count": 15,
   "id": "0a79e67e",
   "metadata": {},
   "outputs": [
    {
     "data": {
      "text/html": [
       "<div>\n",
       "<style scoped>\n",
       "    .dataframe tbody tr th:only-of-type {\n",
       "        vertical-align: middle;\n",
       "    }\n",
       "\n",
       "    .dataframe tbody tr th {\n",
       "        vertical-align: top;\n",
       "    }\n",
       "\n",
       "    .dataframe thead th {\n",
       "        text-align: right;\n",
       "    }\n",
       "</style>\n",
       "<table border=\"1\" class=\"dataframe\">\n",
       "  <thead>\n",
       "    <tr style=\"text-align: right;\">\n",
       "      <th></th>\n",
       "      <th>Algo Names</th>\n",
       "      <th>Accuracy</th>\n",
       "      <th>Sensitivity</th>\n",
       "      <th>Specificity</th>\n",
       "      <th>F1-Score</th>\n",
       "    </tr>\n",
       "  </thead>\n",
       "  <tbody>\n",
       "    <tr>\n",
       "      <th>0</th>\n",
       "      <td>SVM</td>\n",
       "      <td>0.637555</td>\n",
       "      <td>0.077778</td>\n",
       "      <td>1.000000</td>\n",
       "      <td>0.144330</td>\n",
       "    </tr>\n",
       "    <tr>\n",
       "      <th>1</th>\n",
       "      <td>LogisticRegression</td>\n",
       "      <td>0.537118</td>\n",
       "      <td>0.511111</td>\n",
       "      <td>0.553957</td>\n",
       "      <td>0.464646</td>\n",
       "    </tr>\n",
       "    <tr>\n",
       "      <th>2</th>\n",
       "      <td>DecissionTree</td>\n",
       "      <td>0.807860</td>\n",
       "      <td>0.744444</td>\n",
       "      <td>0.848921</td>\n",
       "      <td>0.752809</td>\n",
       "    </tr>\n",
       "    <tr>\n",
       "      <th>3</th>\n",
       "      <td>RandomForest</td>\n",
       "      <td>0.855895</td>\n",
       "      <td>0.811111</td>\n",
       "      <td>0.884892</td>\n",
       "      <td>0.815642</td>\n",
       "    </tr>\n",
       "    <tr>\n",
       "      <th>4</th>\n",
       "      <td>Voting</td>\n",
       "      <td>0.724891</td>\n",
       "      <td>0.366667</td>\n",
       "      <td>0.956835</td>\n",
       "      <td>0.511628</td>\n",
       "    </tr>\n",
       "  </tbody>\n",
       "</table>\n",
       "</div>"
      ],
      "text/plain": [
       "           Algo Names  Accuracy  Sensitivity  Specificity  F1-Score\n",
       "0                 SVM  0.637555     0.077778     1.000000  0.144330\n",
       "1  LogisticRegression  0.537118     0.511111     0.553957  0.464646\n",
       "2       DecissionTree  0.807860     0.744444     0.848921  0.752809\n",
       "3        RandomForest  0.855895     0.811111     0.884892  0.815642\n",
       "4              Voting  0.724891     0.366667     0.956835  0.511628"
      ]
     },
     "execution_count": 15,
     "metadata": {},
     "output_type": "execute_result"
    }
   ],
   "source": [
    "corrOutput2.result"
   ]
  },
  {
   "cell_type": "code",
   "execution_count": 16,
   "id": "793cce02",
   "metadata": {},
   "outputs": [],
   "source": [
    "# finalFeature,finalCromo,res=GeneticAlgorithm_singleCromosomePass(Data.copy(),Cromosome=firstCromo,class_name='class')\n",
    "# finalFeature"
   ]
  },
  {
   "cell_type": "code",
   "execution_count": 26,
   "id": "f7407c0e",
   "metadata": {},
   "outputs": [
    {
     "name": "stdout",
     "output_type": "stream",
     "text": [
      "single cromo : \n",
      "None\n",
      "Default Running...\n",
      "20\n",
      "\n",
      "GENERATION: #: 1\n",
      "\n",
      "Family: #: 1\n",
      "\n",
      "FV for Mutated Child #1 at Gen 1 : 0.4067762200260477\n",
      "FV for Mutated Child #2 at Gen 1 : 0.5590745422508234\n",
      "\n",
      "Family: #: 2\n",
      "\n",
      "FV for Mutated Child #1 at Gen 1 : 0.8308128399601624\n",
      "FV for Mutated Child #2 at Gen 1 : 0.5758254807323987\n",
      "\n",
      "Family: #: 3\n",
      "\n",
      "FV for Mutated Child #1 at Gen 1 : 0.4479506626829082\n",
      "FV for Mutated Child #2 at Gen 1 : 0.587171531448709\n",
      "\n",
      "Family: #: 4\n",
      "\n",
      "FV for Mutated Child #1 at Gen 1 : 0.6151842488316862\n",
      "FV for Mutated Child #2 at Gen 1 : 0.7099977016777752\n",
      "\n",
      "Family: #: 5\n",
      "\n",
      "FV for Mutated Child #1 at Gen 1 : 0.5951505401057229\n",
      "FV for Mutated Child #2 at Gen 1 : 0.7992377231287826\n",
      "New_Population shape: (10, 20)\n"
     ]
    },
    {
     "ename": "AttributeError",
     "evalue": "'list' object has no attribute 'shape'",
     "output_type": "error",
     "traceback": [
      "\u001b[1;31m---------------------------------------------------------------------------\u001b[0m",
      "\u001b[1;31mAttributeError\u001b[0m                            Traceback (most recent call last)",
      "Cell \u001b[1;32mIn[26], line 1\u001b[0m\n\u001b[1;32m----> 1\u001b[0m mainRes\u001b[38;5;241m=\u001b[39mGeneticAlgo(Data\u001b[38;5;241m.\u001b[39mcopy(),class_name\u001b[38;5;241m=\u001b[39m\u001b[38;5;124m'\u001b[39m\u001b[38;5;124mclass\u001b[39m\u001b[38;5;124m'\u001b[39m)\n\u001b[0;32m      2\u001b[0m mainRes\u001b[38;5;241m.\u001b[39mresult\n",
      "File \u001b[1;32m~\\TestingWithModels\\geneticHelper.py:1083\u001b[0m, in \u001b[0;36mGeneticAlgo\u001b[1;34m(Data, singleCromosome, cromosomeSet, class_name)\u001b[0m\n\u001b[0;32m   1081\u001b[0m     finalFeature,finalCromo,res\u001b[38;5;241m=\u001b[39mGeneticAlgorithm_singleCromosomePass(Data\u001b[38;5;241m.\u001b[39mcopy(),Cromosome\u001b[38;5;241m=\u001b[39msingleCromosome,class_name\u001b[38;5;241m=\u001b[39m\u001b[38;5;124m'\u001b[39m\u001b[38;5;124mclass\u001b[39m\u001b[38;5;124m'\u001b[39m)\n\u001b[0;32m   1082\u001b[0m \u001b[38;5;28;01melse\u001b[39;00m:\n\u001b[1;32m-> 1083\u001b[0m     finalFeature,finalCromo,res\u001b[38;5;241m=\u001b[39mGeneticAlgorithm(Data\u001b[38;5;241m.\u001b[39mcopy(),class_name\u001b[38;5;241m=\u001b[39m\u001b[38;5;124m'\u001b[39m\u001b[38;5;124mclass\u001b[39m\u001b[38;5;124m'\u001b[39m)\n\u001b[0;32m   1085\u001b[0m allF\u001b[38;5;241m=\u001b[39mData\u001b[38;5;241m.\u001b[39mcolumns\u001b[38;5;241m.\u001b[39mtolist()\n\u001b[0;32m   1086\u001b[0m newFinalFeature \u001b[38;5;241m=\u001b[39m [allF[i] \u001b[38;5;28;01mfor\u001b[39;00m i \u001b[38;5;129;01min\u001b[39;00m finalFeature]\n",
      "File \u001b[1;32m~\\TestingWithModels\\geneticHelper.py:484\u001b[0m, in \u001b[0;36mGeneticAlgorithm\u001b[1;34m(Data, class_name, number_of_population, generation, crossover_probability, mutation_probability)\u001b[0m\n\u001b[0;32m    481\u001b[0m       \u001b[38;5;66;03m# Check the logic that generates Not_So_Darwin_Guy\u001b[39;00m\n\u001b[0;32m    483\u001b[0m \u001b[38;5;28mprint\u001b[39m(\u001b[38;5;124m\"\u001b[39m\u001b[38;5;124mNew_Population shape:\u001b[39m\u001b[38;5;124m\"\u001b[39m, New_Population\u001b[38;5;241m.\u001b[39mshape)\n\u001b[1;32m--> 484\u001b[0m \u001b[38;5;28mprint\u001b[39m(\u001b[38;5;124m\"\u001b[39m\u001b[38;5;124mDarwin_Guy shape:\u001b[39m\u001b[38;5;124m\"\u001b[39m, Darwin_Guy\u001b[38;5;241m.\u001b[39mshape)\n\u001b[0;32m    485\u001b[0m \u001b[38;5;28mprint\u001b[39m(\u001b[38;5;124m\"\u001b[39m\u001b[38;5;124mNot_So_Darwin_Guy shape:\u001b[39m\u001b[38;5;124m\"\u001b[39m, Not_So_Darwin_Guy\u001b[38;5;241m.\u001b[39mshape)\n\u001b[0;32m    487\u001b[0m Best_1 \u001b[38;5;241m=\u001b[39m np\u001b[38;5;241m.\u001b[39mwhere((New_Population\u001b[38;5;241m==\u001b[39mDarwin_Guy))\n",
      "\u001b[1;31mAttributeError\u001b[0m: 'list' object has no attribute 'shape'"
     ]
    }
   ],
   "source": [
    "mainRes=GeneticAlgo(Data.copy(),class_name='class')\n",
    "mainRes.result"
   ]
  },
  {
   "cell_type": "code",
   "execution_count": null,
   "id": "98067b1f",
   "metadata": {},
   "outputs": [],
   "source": [
    "mainRes.features"
   ]
  },
  {
   "cell_type": "code",
   "execution_count": null,
   "id": "f7256778",
   "metadata": {},
   "outputs": [],
   "source": [
    "custom1=GeneticAlgo(Data.copy(),singleCromosome=firstCromo,class_name='class')\n",
    "custom1.result"
   ]
  },
  {
   "cell_type": "code",
   "execution_count": null,
   "id": "f785498f",
   "metadata": {},
   "outputs": [],
   "source": [
    "custom1.features"
   ]
  },
  {
   "cell_type": "code",
   "execution_count": null,
   "id": "04ae45cd",
   "metadata": {},
   "outputs": [],
   "source": [
    "custom2=GeneticAlgo(Data.copy(),singleCromosome=secondCromo,class_name='class')\n",
    "custom2.result"
   ]
  },
  {
   "cell_type": "code",
   "execution_count": null,
   "id": "654c37e8",
   "metadata": {},
   "outputs": [],
   "source": [
    "custom2.features"
   ]
  },
  {
   "cell_type": "code",
   "execution_count": null,
   "id": "511398d4",
   "metadata": {},
   "outputs": [],
   "source": [
    "custom3=GeneticAlgo(Data.copy(),singleCromosome=thirdCromo,class_name='class')\n",
    "custom3.result"
   ]
  },
  {
   "cell_type": "code",
   "execution_count": null,
   "id": "0f34daa3",
   "metadata": {},
   "outputs": [],
   "source": [
    "custom3.features"
   ]
  },
  {
   "cell_type": "code",
   "execution_count": null,
   "id": "903383f7",
   "metadata": {},
   "outputs": [],
   "source": []
  }
 ],
 "metadata": {
  "kernelspec": {
   "display_name": "Python 3 (ipykernel)",
   "language": "python",
   "name": "python3"
  },
  "language_info": {
   "codemirror_mode": {
    "name": "ipython",
    "version": 3
   },
   "file_extension": ".py",
   "mimetype": "text/x-python",
   "name": "python",
   "nbconvert_exporter": "python",
   "pygments_lexer": "ipython3",
   "version": "3.12.4"
  }
 },
 "nbformat": 4,
 "nbformat_minor": 5
}
